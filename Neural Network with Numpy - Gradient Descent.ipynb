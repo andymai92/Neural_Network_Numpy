{
 "cells": [
  {
   "cell_type": "code",
   "execution_count": 1,
   "metadata": {
    "collapsed": true
   },
   "outputs": [],
   "source": [
    "import numpy as np"
   ]
  },
  {
   "cell_type": "code",
   "execution_count": 2,
   "metadata": {
    "collapsed": true
   },
   "outputs": [],
   "source": [
    "X = np.array([[1,0,1,0],[1,0,1,1],[0,1,0,1]])\n",
    "y = np.array([[1],[1],[0]])"
   ]
  },
  {
   "cell_type": "code",
   "execution_count": 3,
   "metadata": {},
   "outputs": [],
   "source": [
    "def gradientDescent(x, y, theta, alpha, m, numIterations):\n",
    "    xTrans = x.T\n",
    "    for i in range(0, numIterations):\n",
    "        hypothesis = np.dot(x, theta)\n",
    "        loss = hypothesis - y\n",
    "        cost = np.sum(loss ** 2) / (m)\n",
    "        # Limit the display of cost\n",
    "        if i % 260 == 0:\n",
    "            print(\"Iteration %d | Cost: %f\" % (i, cost))\n",
    "        # calcualte average gradient value for every loop\n",
    "        gradient = np.dot(xTrans, loss) / m\n",
    "        # update the theta value based on previous work and loss\n",
    "        theta = theta - alpha * gradient\n",
    "    return theta"
   ]
  },
  {
   "cell_type": "code",
   "execution_count": 4,
   "metadata": {},
   "outputs": [
    {
     "name": "stdout",
     "output_type": "stream",
     "text": [
      "Iteration 0 | Cost: 3.000000\n",
      "Iteration 260 | Cost: 2.090944\n",
      "Iteration 520 | Cost: 1.473600\n",
      "Iteration 780 | Cost: 1.051555\n",
      "Iteration 1040 | Cost: 0.760732\n",
      "Iteration 1300 | Cost: 0.558468\n",
      "Iteration 1560 | Cost: 0.416293\n",
      "Iteration 1820 | Cost: 0.315154\n",
      "Iteration 2080 | Cost: 0.242259\n",
      "Iteration 2340 | Cost: 0.188977\n",
      "Iteration 2600 | Cost: 0.149459\n",
      "Iteration 2860 | Cost: 0.119713\n",
      "Iteration 3120 | Cost: 0.096995\n",
      "Iteration 3380 | Cost: 0.079402\n",
      "Iteration 3640 | Cost: 0.065601\n",
      "Iteration 3900 | Cost: 0.054646\n",
      "Iteration 4160 | Cost: 0.045859\n",
      "Iteration 4420 | Cost: 0.038747\n",
      "Iteration 4680 | Cost: 0.032943\n",
      "Iteration 4940 | Cost: 0.028177\n",
      "Iteration 5200 | Cost: 0.024239\n",
      "Iteration 5460 | Cost: 0.020971\n",
      "Iteration 5720 | Cost: 0.018246\n",
      "Iteration 5980 | Cost: 0.015967\n",
      "Iteration 6240 | Cost: 0.014054\n",
      "Iteration 6500 | Cost: 0.012444\n",
      "Iteration 6760 | Cost: 0.011086\n",
      "Iteration 7020 | Cost: 0.009937\n",
      "Iteration 7280 | Cost: 0.008963\n",
      "Iteration 7540 | Cost: 0.008134\n",
      "Iteration 7800 | Cost: 0.007429\n",
      "Iteration 8060 | Cost: 0.006825\n",
      "Iteration 8320 | Cost: 0.006308\n",
      "Iteration 8580 | Cost: 0.005864\n",
      "Iteration 8840 | Cost: 0.005480\n",
      "Iteration 9100 | Cost: 0.005148\n",
      "Iteration 9360 | Cost: 0.004859\n",
      "Iteration 9620 | Cost: 0.004606\n",
      "Iteration 9880 | Cost: 0.004385\n",
      "[[ 0.52546906]\n",
      " [ 0.19350616]\n",
      " [ 0.52546906]\n",
      " [-0.11455584]]\n"
     ]
    }
   ],
   "source": [
    "m, n = np.shape(X)\n",
    "numIterations = 10000\n",
    "alpha = 0.0005\n",
    "theta = np.ones(shape=(n,1))\n",
    "theta = gradientDescent(X, y, theta, alpha, m, numIterations)\n",
    "print(theta)"
   ]
  },
  {
   "cell_type": "code",
   "execution_count": 5,
   "metadata": {},
   "outputs": [
    {
     "data": {
      "text/plain": [
       "array([[ 1.05093812],\n",
       "       [ 0.93638229],\n",
       "       [ 0.07895033]])"
      ]
     },
     "execution_count": 5,
     "metadata": {},
     "output_type": "execute_result"
    }
   ],
   "source": [
    "np.dot(X,theta)"
   ]
  }
 ],
 "metadata": {
  "kernelspec": {
   "display_name": "Python 3",
   "language": "python",
   "name": "python3"
  },
  "language_info": {
   "codemirror_mode": {
    "name": "ipython",
    "version": 3
   },
   "file_extension": ".py",
   "mimetype": "text/x-python",
   "name": "python",
   "nbconvert_exporter": "python",
   "pygments_lexer": "ipython3",
   "version": "3.5.2"
  }
 },
 "nbformat": 4,
 "nbformat_minor": 2
}
