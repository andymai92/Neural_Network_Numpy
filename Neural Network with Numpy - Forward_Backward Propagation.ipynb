{
 "cells": [
  {
   "cell_type": "code",
   "execution_count": 1,
   "metadata": {
    "collapsed": true
   },
   "outputs": [],
   "source": [
    "import numpy as np"
   ]
  },
  {
   "cell_type": "markdown",
   "metadata": {},
   "source": [
    "### Input data X and target data y"
   ]
  },
  {
   "cell_type": "code",
   "execution_count": 2,
   "metadata": {
    "collapsed": true
   },
   "outputs": [],
   "source": [
    "X = np.array([[1,0,1,0],[1,0,1,1],[0,1,0,1]])\n",
    "y = np.array([[1],[1],[0]])"
   ]
  },
  {
   "cell_type": "markdown",
   "metadata": {},
   "source": [
    "### Define two functions: tanh(x) for activation function and derivative tanh(x) for optimizer function"
   ]
  },
  {
   "cell_type": "code",
   "execution_count": 3,
   "metadata": {
    "collapsed": true
   },
   "outputs": [],
   "source": [
    "def tanh(x):\n",
    "    return np.tanh(x)"
   ]
  },
  {
   "cell_type": "code",
   "execution_count": 4,
   "metadata": {
    "collapsed": true
   },
   "outputs": [],
   "source": [
    "def optimize(x):\n",
    "    return 1-(np.tanh(x))**2"
   ]
  },
  {
   "cell_type": "markdown",
   "metadata": {},
   "source": [
    "### Initiate default value for the program"
   ]
  },
  {
   "cell_type": "code",
   "execution_count": 5,
   "metadata": {
    "collapsed": true
   },
   "outputs": [],
   "source": [
    "hidden_layer = 3\n",
    "epoch = 10000 # number of loops\n",
    "lr = 0.1 # learning rate\n",
    "input_dataset = X.shape[1] # number of features in input data\n",
    "output_value = y.shape[1]"
   ]
  },
  {
   "cell_type": "markdown",
   "metadata": {},
   "source": [
    "### Initiate all biases and weights"
   ]
  },
  {
   "cell_type": "code",
   "execution_count": 6,
   "metadata": {
    "collapsed": true
   },
   "outputs": [],
   "source": [
    "wh = np.random.uniform(size=(input_dataset,hidden_layer))\n",
    "wout = np.random.uniform(size=(hidden_layer,output_value))\n",
    "bh = np.random.uniform(size=(1,hidden_layer))\n",
    "bout = np.random.uniform(size=(1,1))"
   ]
  },
  {
   "cell_type": "code",
   "execution_count": 7,
   "metadata": {},
   "outputs": [
    {
     "name": "stdout",
     "output_type": "stream",
     "text": [
      "[[ 0.99974352]\n",
      " [ 0.99961565]\n",
      " [ 0.02230892]]\n"
     ]
    }
   ],
   "source": [
    "for i in range(epoch):\n",
    "    # Forward propagation process:\n",
    "    hidden_input = np.dot(X,wh) + bh\n",
    "    hidden_input_activation = tanh(hidden_input)\n",
    "    \n",
    "    output_input_layer = np.dot(hidden_input_activation,wout) + bout\n",
    "    output = tanh(output_input_layer)\n",
    "    \n",
    "    # Back propagation process:\n",
    "    error = y - output\n",
    "    slope_hidden = optimize(hidden_input_activation)\n",
    "    slope_output = optimize(output)\n",
    "    \n",
    "    d_output = error * slope_output\n",
    "    error_hidden = np.dot(d_output,wout.T)\n",
    "    d_hidden = np.dot(error_hidden,slope_hidden)\n",
    "    \n",
    "    # Update all parameters:\n",
    "    wout += np.dot(hidden_input_activation,d_output)*lr\n",
    "    bout += np.sum(d_output,axis=0) * lr\n",
    "    wh += np.dot(X.T,d_hidden) * lr\n",
    "    bh += np.sum(d_hidden,axis=0)\n",
    "    \n",
    "print(output)"
   ]
  }
 ],
 "metadata": {
  "kernelspec": {
   "display_name": "Python 3",
   "language": "python",
   "name": "python3"
  },
  "language_info": {
   "codemirror_mode": {
    "name": "ipython",
    "version": 3
   },
   "file_extension": ".py",
   "mimetype": "text/x-python",
   "name": "python",
   "nbconvert_exporter": "python",
   "pygments_lexer": "ipython3",
   "version": "3.5.2"
  }
 },
 "nbformat": 4,
 "nbformat_minor": 2
}
